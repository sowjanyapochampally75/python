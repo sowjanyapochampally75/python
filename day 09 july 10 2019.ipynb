{
 "cells": [
  {
   "cell_type": "markdown",
   "metadata": {},
   "source": [
    "# Data structure\n",
    "* dictionaries"
   ]
  },
  {
   "cell_type": "markdown",
   "metadata": {},
   "source": [
    "# Dictionaries\n",
    "- It works on the concept of set unique data\n",
    "- keys,values is the unique identifier for a value\n",
    "- Each key is seperated from its value with colon(:)\n",
    "- Each key and value is seperated by comma(,)\n",
    "- Dictionaries enclosed with curly braces({})"
   ]
  },
  {
   "cell_type": "code",
   "execution_count": 1,
   "metadata": {},
   "outputs": [
    {
     "name": "stdout",
     "output_type": "stream",
     "text": [
      "{'Name': 'Gitam', 'Email;Id': 'gitam@gmail.com', 'Adders': 'Hyderabad'}\n"
     ]
    }
   ],
   "source": [
    "d1 = {\"Name\":\"Gitam\",\"Email;Id\":\"gitam@gmail.com\",\"Adders\":\"Hyderabad\"}\n",
    "print(d1)"
   ]
  },
  {
   "cell_type": "code",
   "execution_count": 2,
   "metadata": {},
   "outputs": [
    {
     "data": {
      "text/plain": [
       "'Gitam'"
      ]
     },
     "execution_count": 2,
     "metadata": {},
     "output_type": "execute_result"
    }
   ],
   "source": [
    "d1[\"Name\"]#Acces the specific key value"
   ]
  },
  {
   "cell_type": "code",
   "execution_count": 5,
   "metadata": {},
   "outputs": [],
   "source": [
    "d1['EmailId'] = 'gitam-python@gmail.com'#Update the data"
   ]
  },
  {
   "cell_type": "code",
   "execution_count": 7,
   "metadata": {},
   "outputs": [
    {
     "data": {
      "text/plain": [
       "'gitam-python@gmail.com'"
      ]
     },
     "execution_count": 7,
     "metadata": {},
     "output_type": "execute_result"
    }
   ],
   "source": [
    "d1['EmailId']"
   ]
  },
  {
   "cell_type": "code",
   "execution_count": 9,
   "metadata": {},
   "outputs": [],
   "source": [
    "del d1['EmailId']#Delete the specific key"
   ]
  },
  {
   "cell_type": "code",
   "execution_count": 10,
   "metadata": {},
   "outputs": [
    {
     "data": {
      "text/plain": [
       "{'Name': 'Gitam', 'Email;Id': 'gitam@gmail.com', 'Adders': 'Hyderabad'}"
      ]
     },
     "execution_count": 10,
     "metadata": {},
     "output_type": "execute_result"
    }
   ],
   "source": [
    "d1 # del d1 will delete the entire dict object "
   ]
  },
  {
   "cell_type": "code",
   "execution_count": 11,
   "metadata": {},
   "outputs": [
    {
     "data": {
      "text/plain": [
       "dict_keys(['Name', 'Email;Id', 'Adders'])"
      ]
     },
     "execution_count": 11,
     "metadata": {},
     "output_type": "execute_result"
    }
   ],
   "source": [
    "d1.keys() #returns the list of keys"
   ]
  },
  {
   "cell_type": "code",
   "execution_count": 24,
   "metadata": {},
   "outputs": [
    {
     "ename": "NameError",
     "evalue": "name 'd1' is not defined",
     "output_type": "error",
     "traceback": [
      "\u001b[1;31m---------------------------------------------------------------------------\u001b[0m",
      "\u001b[1;31mNameError\u001b[0m                                 Traceback (most recent call last)",
      "\u001b[1;32m<ipython-input-24-3d70c01f62e9>\u001b[0m in \u001b[0;36m<module>\u001b[1;34m\u001b[0m\n\u001b[1;32m----> 1\u001b[1;33m \u001b[0md1\u001b[0m\u001b[1;33m.\u001b[0m\u001b[0mvalues\u001b[0m\u001b[1;33m(\u001b[0m\u001b[1;33m)\u001b[0m  \u001b[1;31m# returns the values\u001b[0m\u001b[1;33m\u001b[0m\u001b[1;33m\u001b[0m\u001b[0m\n\u001b[0m",
      "\u001b[1;31mNameError\u001b[0m: name 'd1' is not defined"
     ]
    }
   ],
   "source": [
    "d1.values()  # returns the values"
   ]
  },
  {
   "cell_type": "markdown",
   "metadata": {},
   "source": [
    "### Tuples\n",
    "- T1 parenthesis is() li square brackets[]\n",
    "- Differences between list and tuples\n",
    "    - list are mutable - can be changed/modified\n",
    "         - used to acces modify,add,delete data\n",
    "    - Tuples are immutable - cannot be  changed\n",
    "         - used to acces data only"
   ]
  },
  {
   "cell_type": "markdown",
   "metadata": {},
   "source": [
    "### Contact Application\n",
    "- Add Contact\n",
    "- search the Contact\n",
    "- List all Contact\n",
    "   - name1 : phone1\n",
    "   - name2 : phone2\n",
    "- Modify the Contact\n",
    "- Remove the Contact\n",
    "- Import the Contact"
   ]
  },
  {
   "cell_type": "code",
   "execution_count": 12,
   "metadata": {},
   "outputs": [
    {
     "name": "stdout",
     "output_type": "stream",
     "text": [
      "contact is details are added\n",
      "contact is details are added\n",
      "contact details are already\n"
     ]
    }
   ],
   "source": [
    "#Add contact\n",
    "contacts = {} #creating a dict object\n",
    "def addcontact(name,phone):\n",
    "    if name not in contacts:\n",
    "        contacts[name] = phone\n",
    "        print(\"contact is details are added\")\n",
    "    else:\n",
    "        print(\"contact details are already\")\n",
    "    return\n",
    "addcontact('anil','9876543210')\n",
    "addcontact('naveen','9966552211')\n",
    "addcontact('anil','9876543210')"
   ]
  },
  {
   "cell_type": "code",
   "execution_count": 13,
   "metadata": {},
   "outputs": [
    {
     "name": "stdout",
     "output_type": "stream",
     "text": [
      "anil  :  9876543210\n",
      "harsha does not exists\n",
      "naveen  :  9966552211\n"
     ]
    }
   ],
   "source": [
    "#search for contact details\n",
    "def searchcontact(name):\n",
    "    if name in contacts:\n",
    "        print(name,\" : \",contacts[name])\n",
    "    else:\n",
    "        print(\"%s does not exists\" % name)\n",
    "    return\n",
    "searchcontact('anil')\n",
    "searchcontact('harsha')\n",
    "searchcontact('naveen')"
   ]
  },
  {
   "cell_type": "code",
   "execution_count": 37,
   "metadata": {},
   "outputs": [
    {
     "name": "stdout",
     "output_type": "stream",
     "text": [
      "2 contacts added success\n"
     ]
    }
   ],
   "source": [
    "#import some contacts\n",
    "#merge the contact with existing one\n",
    "def importcontact(newcontacts):\n",
    "    contacts.update(newcontacts)\n",
    "    print(len(newcontacts.keys()),\"contacts added success\")\n",
    "    return\n",
    "newcontacts = {'dinesh':9988774455,'ajay':9977445566}\n",
    "importcontact(newcontacts)"
   ]
  },
  {
   "cell_type": "code",
   "execution_count": 38,
   "metadata": {},
   "outputs": [
    {
     "data": {
      "text/plain": [
       "{'anil': '9876543210',\n",
       " 'naveen': '9966552211',\n",
       " 'dinesh': 9988774455,\n",
       " 'ajay': 9977445566}"
      ]
     },
     "execution_count": 38,
     "metadata": {},
     "output_type": "execute_result"
    }
   ],
   "source": [
    "contacts"
   ]
  },
  {
   "cell_type": "code",
   "execution_count": 39,
   "metadata": {},
   "outputs": [
    {
     "name": "stdout",
     "output_type": "stream",
     "text": [
      "ajay deleted succesfully\n"
     ]
    }
   ],
   "source": [
    "#delete a contact\n",
    "def deletecontact(name):\n",
    "    if name in contacts:\n",
    "        del contacts[name]\n",
    "        print(name,\"deleted succesfully\" )\n",
    "    else:\n",
    "        print(name,\"not exists\")\n",
    "        return\n",
    "deletecontact('ajay')"
   ]
  },
  {
   "cell_type": "code",
   "execution_count": 41,
   "metadata": {},
   "outputs": [
    {
     "name": "stdout",
     "output_type": "stream",
     "text": [
      "anil updated successfully\n",
      "ajay not exists\n"
     ]
    }
   ],
   "source": [
    "#update the contact details\n",
    "def deletecontact(name,phone):\n",
    "    if name in contacts:\n",
    "        contacts[name] = phone\n",
    "        print(name,\"updated successfully\")\n",
    "    else:\n",
    "        print(name,\"not exists\")\n",
    "    return\n",
    "deletecontact('anil',9988774455)\n",
    "deletecontact('ajay',9988665544)\n",
    "        "
   ]
  },
  {
   "cell_type": "markdown",
   "metadata": {},
   "source": [
    "## string formatting\n",
    "- classical version\n",
    "- current version"
   ]
  },
  {
   "cell_type": "code",
   "execution_count": 42,
   "metadata": {},
   "outputs": [
    {
     "name": "stdout",
     "output_type": "stream",
     "text": [
      "python programming\n"
     ]
    }
   ],
   "source": [
    "#classical version\n",
    "li = [\"python\",\"programming\"]\n",
    "print(\"%s %s\" % (li[0],li[1]))"
   ]
  },
  {
   "cell_type": "code",
   "execution_count": 43,
   "metadata": {},
   "outputs": [
    {
     "name": "stdout",
     "output_type": "stream",
     "text": [
      "python programming\n"
     ]
    }
   ],
   "source": [
    "print(\"{0} {1}\" .format(li[0],li[1]))"
   ]
  },
  {
   "cell_type": "code",
   "execution_count": 48,
   "metadata": {},
   "outputs": [
    {
     "name": "stdout",
     "output_type": "stream",
     "text": [
      "1 2 3 4 \n"
     ]
    }
   ],
   "source": [
    "li1 = [1,2,3,4]\n",
    "print(\"%d %d %d %d \" % (li1[0],li1[1],li1[2],li1[3]))"
   ]
  },
  {
   "cell_type": "code",
   "execution_count": 49,
   "metadata": {},
   "outputs": [
    {
     "name": "stdout",
     "output_type": "stream",
     "text": [
      "1 2 3 4\n"
     ]
    }
   ],
   "source": [
    "print(\"{0} {1} {2} {3}\".format(li1[0],li1[1],li1[2],li1[3]))"
   ]
  },
  {
   "cell_type": "markdown",
   "metadata": {},
   "source": [
    "### Boolean functions\n",
    "- islower() -- True if the string  is lower case\\False if the string is not lower case\n",
    "- isupper() -- True if the string  is upper case\\False if the string is not upper case\n",
    "- istitle() -- True if the string follow title case \n",
    "- isalpha() -- True if the string contains only Alphabates\n",
    "- isnumeric() --True if the string contain only numbers"
   ]
  },
  {
   "cell_type": "code",
   "execution_count": 53,
   "metadata": {},
   "outputs": [
    {
     "name": "stdout",
     "output_type": "stream",
     "text": [
      "False\n",
      "True\n"
     ]
    }
   ],
   "source": [
    "s1 = 'GITAM'\n",
    "print(s1.islower())\n",
    "print(s1.isupper())"
   ]
  },
  {
   "cell_type": "code",
   "execution_count": 59,
   "metadata": {},
   "outputs": [
    {
     "name": "stdout",
     "output_type": "stream",
     "text": [
      "True\n",
      "False\n"
     ]
    }
   ],
   "source": [
    "s2 = \"Python Programming\"\n",
    "s3 = \"python programming\"\n",
    "print(s2.istitle())\n",
    "print(s3.istitle())"
   ]
  },
  {
   "cell_type": "code",
   "execution_count": 58,
   "metadata": {},
   "outputs": [
    {
     "name": "stdout",
     "output_type": "stream",
     "text": [
      "False\n",
      "True\n"
     ]
    }
   ],
   "source": [
    "s2 = \"Application1889\"\n",
    "s3 = 'pythonprogramming'\n",
    "print(s2.isalpha())\n",
    "print(s3.isalpha())"
   ]
  },
  {
   "cell_type": "code",
   "execution_count": 60,
   "metadata": {},
   "outputs": [
    {
     "name": "stdout",
     "output_type": "stream",
     "text": [
      "True\n",
      "False\n"
     ]
    }
   ],
   "source": [
    "s1 = \"1234\"\n",
    "s2 = \"Application1234\"\n",
    "print(s1.isnumeric())\n",
    "print(s2.isnumeric())"
   ]
  },
  {
   "cell_type": "code",
   "execution_count": 62,
   "metadata": {},
   "outputs": [
    {
     "name": "stdout",
     "output_type": "stream",
     "text": [
      "True\n",
      "False\n"
     ]
    }
   ],
   "source": [
    "s1 = \" \"\n",
    "s2 = \"py th on\"\n",
    "print(s1.isspace())\n",
    "print(s2.isspace())"
   ]
  },
  {
   "cell_type": "markdown",
   "metadata": {},
   "source": [
    "### string methods\n",
    "- 1.join()--method will concatinates the two strings\n",
    "- 2.split() --split() returns the a list of string seperated by whilespace(no parameters are given)\n",
    "- replace() -- replaces the specific word/character "
   ]
  },
  {
   "cell_type": "code",
   "execution_count": 63,
   "metadata": {},
   "outputs": [
    {
     "name": "stdout",
     "output_type": "stream",
     "text": [
      "p y t h o n\n"
     ]
    }
   ],
   "source": [
    "s1 = 'python'\n",
    "print(\" \".join(s1))"
   ]
  },
  {
   "cell_type": "code",
   "execution_count": 64,
   "metadata": {},
   "outputs": [
    {
     "name": "stdout",
     "output_type": "stream",
     "text": [
      "p,y,t,h,o,n, ,p,r,o,g,r,a,m,m,i,n,g, ,e,a,s,y, ,t,o, ,l,e,a,r,n\n"
     ]
    }
   ],
   "source": [
    "s2 = \"python programming easy to learn\"\n",
    "print(\",\".join(s2))"
   ]
  },
  {
   "cell_type": "code",
   "execution_count": 65,
   "metadata": {},
   "outputs": [
    {
     "name": "stdout",
     "output_type": "stream",
     "text": [
      "python,programming,learn\n"
     ]
    }
   ],
   "source": [
    "li = ['python', 'programming','learn']\n",
    "print(\",\".join(li))"
   ]
  },
  {
   "cell_type": "code",
   "execution_count": 66,
   "metadata": {},
   "outputs": [
    {
     "name": "stdout",
     "output_type": "stream",
     "text": [
      "['python', 'programming', 'easy', 'to', 'learn']\n"
     ]
    }
   ],
   "source": [
    "s2 = \"python programming easy to learn\"\n",
    "print(s2.split())"
   ]
  },
  {
   "cell_type": "code",
   "execution_count": 67,
   "metadata": {},
   "outputs": [
    {
     "name": "stdout",
     "output_type": "stream",
     "text": [
      "['python progr', 'mming e', 'sy to le', 'rn']\n"
     ]
    }
   ],
   "source": [
    "s2 = \"python programming easy to learn\" \n",
    "print(s2.split('a'))"
   ]
  },
  {
   "cell_type": "code",
   "execution_count": 68,
   "metadata": {},
   "outputs": [
    {
     "name": "stdout",
     "output_type": "stream",
     "text": [
      "['python', 'programming', 'easy', 'to', 'learn']\n",
      "5\n"
     ]
    }
   ],
   "source": [
    "s2 = \"python programming easy to learn\"\n",
    "li = s2.split()\n",
    "print(li)\n",
    "print(len(li))"
   ]
  },
  {
   "cell_type": "code",
   "execution_count": 69,
   "metadata": {},
   "outputs": [
    {
     "name": "stdout",
     "output_type": "stream",
     "text": [
      "['p', 'y', 't', 'h', 'o', 'n', ' ', 'p', 'r', 'o', 'g', 'r', 'a', 'm', 'm', 'i', 'n', 'g', ' ', 'e', 'a', 's', 'y', ' ', 't', 'o', ' ', 'l', 'e', 'a', 'r', 'n']\n"
     ]
    }
   ],
   "source": [
    " s2 = \"python programming easy to learn\"\n",
    "li = list(s2)\n",
    "print(li)"
   ]
  },
  {
   "cell_type": "code",
   "execution_count": 70,
   "metadata": {},
   "outputs": [
    {
     "name": "stdout",
     "output_type": "stream",
     "text": [
      "python proApplicationmming easy to learn\n"
     ]
    }
   ],
   "source": [
    "s2 = \"python programming easy to learn\"\n",
    "print(s2.replace(\"gra\",\"Application\"))"
   ]
  },
  {
   "cell_type": "markdown",
   "metadata": {},
   "source": [
    "### Pacakage and Modules\n",
    "### **Package**\n",
    "   - A collection of Modules(single Python file.py) and Subpackages\n",
    "### **Module**\n",
    "   - A single Python file contaning set functions\n",
    "## Packages -->Sub packages --> Modules --> Functions -->Statements"
   ]
  },
  {
   "cell_type": "code",
   "execution_count": 3,
   "metadata": {},
   "outputs": [
    {
     "data": {
      "text/plain": [
       "123"
      ]
     },
     "execution_count": 3,
     "metadata": {},
     "output_type": "execute_result"
    }
   ],
   "source": [
    "#import external packages to python files\n",
    "import math\n",
    "math.floor(123.45)"
   ]
  },
  {
   "cell_type": "code",
   "execution_count": 4,
   "metadata": {},
   "outputs": [
    {
     "data": {
      "text/plain": [
       "120"
      ]
     },
     "execution_count": 4,
     "metadata": {},
     "output_type": "execute_result"
    }
   ],
   "source": [
    "from math import factorial as fact \n",
    "fact(5)"
   ]
  },
  {
   "cell_type": "code",
   "execution_count": 5,
   "metadata": {},
   "outputs": [
    {
     "data": {
      "text/plain": [
       "5"
      ]
     },
     "execution_count": 5,
     "metadata": {},
     "output_type": "execute_result"
    }
   ],
   "source": [
    "from math import gcd as gcd\n",
    "gcd(10,15)"
   ]
  },
  {
   "cell_type": "code",
   "execution_count": 14,
   "metadata": {},
   "outputs": [
    {
     "name": "stdout",
     "output_type": "stream",
     "text": [
      "48 50 61 88 75 2 36 11 41 7 "
     ]
    }
   ],
   "source": [
    "#function to generate N random numbers\n",
    "import random\n",
    "def randomNnumbers(n,lb,ub):\n",
    "    for i  in range(0,n):\n",
    "        print(random.randint(lb,ub),end=\" \")\n",
    "    return\n",
    "randomNnumbers(10,0,100)"
   ]
  },
  {
   "cell_type": "code",
   "execution_count": 2,
   "metadata": {},
   "outputs": [],
   "source": [
    "#create a simple Game\n",
    "#Generate 20 random numbers 0 to 500\n",
    "#Input : Number\n",
    "#output : congrats!!\n",
    "#       Try once again!!!\n",
    "def generatenumbers(n,lb,ub):\n",
    "    li = []\n",
    "    for i in range(0,n):\n",
    "        li.append(random.randint(lb,ub))\n",
    "    return li\n",
    "def check(n):\n",
    "    if n in li:\n",
    "        return \"congrats!!!\"\n",
    "    else:\n",
    "        return \"Try once again!!!\"\n",
    "    return\n",
    "    check(15)"
   ]
  },
  {
   "cell_type": "code",
   "execution_count": null,
   "metadata": {},
   "outputs": [],
   "source": []
  }
 ],
 "metadata": {
  "kernelspec": {
   "display_name": "Python 3",
   "language": "python",
   "name": "python3"
  },
  "language_info": {
   "codemirror_mode": {
    "name": "ipython",
    "version": 3
   },
   "file_extension": ".py",
   "mimetype": "text/x-python",
   "name": "python",
   "nbconvert_exporter": "python",
   "pygments_lexer": "ipython3",
   "version": "3.7.3"
  }
 },
 "nbformat": 4,
 "nbformat_minor": 2
}
