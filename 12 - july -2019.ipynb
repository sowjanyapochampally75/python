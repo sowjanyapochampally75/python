{
 "cells": [
  {
   "cell_type": "markdown",
   "metadata": {},
   "source": [
    "### Regular Expression\n",
    "- pattern Matching\n",
    "- Pattern(re) package\n",
    "- cap symbol is used present\n",
    "- [0-9]-->any digit matching\n",
    "- ^[0-9]{2}$ - Two digit matching\n",
    "- ^[0-9]{5}$ - Five digit matching\n",
    "-  > two digit number(^[0-9]{2}$)\n",
    "\n",
    "### Regular Expressions for characters\n",
    "- [a-z]--> Any lower case expression\n",
    "- [A-Z]--> Any upper case expression\n",
    "- ^[a-z]{5}$--> It accept 5 lower character\n",
    "- ^[a-zA-Z]{8}$--> Accept 8 character can be anything lower and upper\n",
    "- ^[a-zA-Z]{8}$--> Accept 8 characters can be anything upper lower and digits\n",
    "\n"
   ]
  },
  {
   "cell_type": "code",
   "execution_count": null,
   "metadata": {},
   "outputs": [],
   "source": [
    "#function to test two digit number matching\n",
    "import re\n",
    "def twodigitmatching(n):\n",
    "    pattern = '^[0-9]{2}$'\n",
    "    n = str(n)\n",
    "    if re.match(pattern,n):\n",
    "        return True\n",
    "    return False\n",
    "print(twodigitmatching(12)) # true\n",
    "print(twodigitmatching(123))#false"
   ]
  },
  {
   "cell_type": "code",
   "execution_count": 2,
   "metadata": {},
   "outputs": [
    {
     "name": "stdout",
     "output_type": "stream",
     "text": [
      "True\n",
      "False\n"
     ]
    }
   ],
   "source": [
    "# function to define to test username having 8 characters\n",
    "# upper case and lower\n",
    "def testusername(s):\n",
    "    pattern = '^[a-zA-Z]{8}$'\n",
    "    if re.match(pattern,s):\n",
    "         return True\n",
    "    return False\n",
    "print(testusername('GitamHYD'))\n",
    "print(testusername('Gitam188'))\n",
    "\n"
   ]
  },
  {
   "cell_type": "markdown",
   "metadata": {},
   "source": [
    "### Regular Expression to match the Indian mobile number\n",
    "- 10 Digits \n",
    "- (First digit will be [6-9] and remaning 9 digits will be [0-9])\n",
    "- Example 9988774455\n",
    "- Re - ^[6-9][0-9]{9}\n",
    "- Example :- 09988774455(Re -^[0][6-9][0-9]{9}Dollor)\n",
    "- Example :- +919988774455\n",
    "- Re - ^[+][9][1][6-9][0-9]{9}"
   ]
  },
  {
   "cell_type": "code",
   "execution_count": 6,
   "metadata": {},
   "outputs": [
    {
     "data": {
      "text/plain": [
       "True"
      ]
     },
     "execution_count": 6,
     "metadata": {},
     "output_type": "execute_result"
    }
   ],
   "source": [
    "# function to validate the indian mobile number\n",
    "def phonenumbervalidation(phone):\n",
    "    pattern = '^[6-9][0-9]{9}$|^[0][6-9][0-9]{9}$|^[+][9][1][6-9][0-9]{9}$'\n",
    "    phone = str(phone)\n",
    "    if re.match(pattern,phone):\n",
    "        return True\n",
    "    return False\n",
    "phonenumbervalidation('+919988774455')"
   ]
  },
  {
   "cell_type": "markdown",
   "metadata": {},
   "source": [
    "- Regular Expression to validate the Rollnumber\n",
    "       -  Example : 1521A0501\n",
    "       -  Example : 1521A0109\n",
    "       -  Example : 1521A0499\n",
    "- Regular Expression to Validate the Password\n",
    "    - Parameters : Len min of 6 characters and Max of 15 characterts\n",
    "    - Accept Lower case,Upper case,Digital spl char(@,#,!)\n"
   ]
  },
  {
   "cell_type": "markdown",
   "metadata": {},
   "source": [
    "### Email Id validation Using Regular Expression\n",
    "- Example :- username@DominName.extens\n",
    "- Username:-\n",
    "- Length will be [6-15]\n",
    "- No spls character apart from underscore()\n",
    "- should not begin and ende with underscore()\n",
    "- character set : All digits and lower case\n",
    "##  Extension\n",
    "- Length will be [2-4]\n",
    "- NO  spls characters \n",
    "- character set : Lower case characters"
   ]
  },
  {
   "cell_type": "code",
   "execution_count": 8,
   "metadata": {},
   "outputs": [
    {
     "data": {
      "text/plain": [
       "True"
      ]
     },
     "execution_count": 8,
     "metadata": {},
     "output_type": "execute_result"
    }
   ],
   "source": [
    "def emailIdvalidation(email):\n",
    "    pattern = '^[0-9a-z][0-9a-z_.]{5,19}[@][a-z0-9]{3,18}[.][a-z]{2,4}$'\n",
    "    if re.match(pattern,email):\n",
    "        return True\n",
    "    return False\n",
    "emailIdvalidation('sowjanyapochampally@gmail.com')"
   ]
  },
  {
   "cell_type": "markdown",
   "metadata": {},
   "source": [
    "### python Turtle\n",
    "- Turtle Graphics"
   ]
  },
  {
   "cell_type": "code",
   "execution_count": null,
   "metadata": {},
   "outputs": [],
   "source": [
    "# step 1:Make all the turtle package to be imported\n",
    "import turtle \n",
    "#Turtle method creates and returns a new object\n",
    "a1 = turtle.Turtle()\n",
    "# forword() method moves 100 pixels\n",
    "turtle.forward(250)\n",
    "# we are done\n",
    "turtle.done()"
   ]
  },
  {
   "cell_type": "code",
   "execution_count": null,
   "metadata": {},
   "outputs": [],
   "source": [
    "\n",
    "#line draw in reverse direction\n",
    "import turtle as tt\n",
    "a1 = tt.Turtle()\n",
    "tt.backward(100)\n",
    "tt.done()"
   ]
  },
  {
   "cell_type": "code",
   "execution_count": null,
   "metadata": {},
   "outputs": [],
   "source": [
    "# draw square\n",
    "import turtle as tt\n",
    "a1 = tt.Turtle()\n",
    "a1.forword(150)\n",
    "a1.right(90)\n",
    "a1.forword(150)\n",
    "a1.right(90)\n",
    "a1.forword(150)\n",
    "a1.right(90)\n",
    "a1.forword(150)\n",
    "a1.right(90)\n",
    "tt.done()"
   ]
  },
  {
   "cell_type": "code",
   "execution_count": null,
   "metadata": {},
   "outputs": [],
   "source": [
    "#draw the square\n",
    "import turtle as t\n",
    "aa = t.Trutle()\n",
    "aa.backward(150)\n",
    "aa.left(90)\n",
    "aa.backward(150)\n",
    "aa.left(90)\n",
    "aa.backward(150)\n",
    "aa.left(90)\n",
    "aa.backward(150)\n",
    "aa.left(90)\n",
    "t.done()"
   ]
  },
  {
   "cell_type": "code",
   "execution_count": null,
   "metadata": {},
   "outputs": [],
   "source": [
    "# star\n",
    "import turtle as t\n",
    "a1 = t.Turtle()\n",
    "for i in range(40):\n",
    "    a1.forward(50)\n",
    "    a1.right(144)\n",
    "t.done()"
   ]
  },
  {
   "cell_type": "code",
   "execution_count": null,
   "metadata": {},
   "outputs": [],
   "source": [
    "# spiraling star\n",
    "import turtle as t\n",
    "a1 = t.Turtle()\n",
    "a1.pencolor('blue')\n",
    "for i in range(40):\n",
    "    a1.forward(i *10)\n",
    "    a1.right(144)\n",
    "t.done"
   ]
  },
  {
   "cell_type": "code",
   "execution_count": null,
   "metadata": {},
   "outputs": [],
   "source": [
    "# Hexagon with multi color\n",
    "from turtle import *\n",
    "colors = ['blue','green','yellow','orange','purple','red']\n",
    "for x in range(360):\n",
    "    pencolor(colors[x%6])\n",
    "    width(x/100 + 1)\n",
    "    forword(x)\n",
    "    left(59)"
   ]
  },
  {
   "cell_type": "code",
   "execution_count": null,
   "metadata": {},
   "outputs": [],
   "source": [
    "#draw square\n",
    "import turtle as tt\n",
    "a1=tt.Turtle()\n",
    "a1.forward(150)\n",
    "a1.right(90) \n",
    "a1.forward(150)\n",
    "a1.right(90)\n",
    "a1.forward(150)\n",
    "a1.right(90) \n",
    "a1.forward(150)\n",
    "a1.right(90)\n",
    "tt.done()"
   ]
  },
  {
   "cell_type": "code",
   "execution_count": null,
   "metadata": {},
   "outputs": [],
   "source": [
    "#draw the left\n",
    "import turtle as t\n",
    "a1=t.Turtle()\n",
    "a1.backward(150)\n",
    "a1.left(90)\n",
    "a1.backward(150)\n",
    "a1.left(90)\n",
    "a1.backward(150)\n",
    "a1.left(90)\n",
    "a1.backward(150)\n",
    "a1.left(90)\n",
    "t.done()\\"
   ]
  },
  {
   "cell_type": "code",
   "execution_count": null,
   "metadata": {},
   "outputs": [],
   "source": [
    "# goto function\n",
    "from turtle import *\n",
    "goto(50,50)\n",
    "goto(-50,50)\n",
    "goto(100,-50)\n",
    "goto(-50,-50)"
   ]
  },
  {
   "cell_type": "code",
   "execution_count": null,
   "metadata": {},
   "outputs": [],
   "source": [
    "#setheading(heading)\n",
    "#will change the current direction to the heading angle\n",
    "from turtle import*\n",
    "color = ['blue','red','purple','orange','green','yellow']\n",
    "for angle in range(0,360,15)\n",
    "     pencolor(colors[angle%6])\n",
    "    setheading(angle)\n",
    "    forword(100)\n",
    "    write(str(angle)+ 'o')\n",
    "    backward(100)"
   ]
  },
  {
   "cell_type": "code",
   "execution_count": null,
   "metadata": {},
   "outputs": [],
   "source": [
    "from turtle import *\n",
    "pensize(50)\n",
    "pencolor('blue')\n",
    "forword(250)\n",
    "pencolor(0,1.0,0)\n",
    "forword(250)\n",
    "pensize(10)\n",
    "goto(-400,50)\n",
    "\n",
    "\n",
    "\n",
    " for red in range(4):\n",
    "        for green in range(4):\n",
    "            for blue in range(4):\n",
    "                pencolor(red/4.0,green/4.0,blue/4.0)\n",
    "                forword(10)"
   ]
  },
  {
   "cell_type": "code",
   "execution_count": null,
   "metadata": {},
   "outputs": [],
   "source": [
    "# undo() function will undo the turtle last action\n",
    "from turtle import*\n",
    "pencolor('blue')\n",
    "for i in range(15):\n",
    "    forward(100)\n",
    "    left(90)\n",
    "    forward(10)\n",
    "    left(90)\n",
    "    forward(100)\n",
    "    right(90)\n",
    "    forward(10)\n",
    "    right(90)\n",
    "pencolor('red')\n",
    "for i in range(90):\n",
    "    undo()"
   ]
  },
  {
   "cell_type": "code",
   "execution_count": null,
   "metadata": {},
   "outputs": [],
   "source": [
    "#generate a rectangle\n",
    "#generate a circle\n",
    "#fill the colors into rectangle and circles\n"
   ]
  },
  {
   "cell_type": "code",
   "execution_count": null,
   "metadata": {},
   "outputs": [],
   "source": [
    "#Generate the symbols\n",
    "from turtle import*\n",
    "colors = ('red','orange','yellow','seagreen4','orchid4','royalblue')\n",
    "reset()\n",
    "up()\n",
    "goto(-320,-195)\n",
    "width(90)\n",
    "for pcolor in colors:\n",
    "    color(pcolor)\n",
    "    down()\n",
    "    forword(750)\n",
    "    up()\n",
    "    backward(750)\n",
    "    left(90)\n",
    "    forword(100)\n",
    "    right(90)\n",
    "width(20)\n",
    "color('white')\n",
    "goto(0,170)\n",
    "down()\n",
    "\n",
    "circle(170)\n",
    "left(90)\n",
    "forword(340)\n",
    "up()\n",
    "left(180)\n",
    "forword(170)\n",
    "up()\n",
    "goto(0,300)\n"
   ]
  },
  {
   "cell_type": "code",
   "execution_count": null,
   "metadata": {},
   "outputs": [],
   "source": [
    "from turtel import*\n",
    "fillcolor('purple')\n",
    "pensize(10)\n",
    "pencolor('black')\n",
    "forward(100)\n",
    "\n",
    "begin_fill()\n",
    "forward(100)\n",
    "left(90)\n",
    "forward(100)\n",
    "left(90)\n",
    "forward(100)\n",
    "left(90)\n",
    "forward(100)\n",
    "left(90)\n",
    "end_fill()"
   ]
  },
  {
   "cell_type": "code",
   "execution_count": null,
   "metadata": {},
   "outputs": [],
   "source": [
    "from turtle import*\n",
    "fillcolor()\n",
    "pensize(10)\n",
    "pencolor('black')\n",
    "begin_fill()\n",
    "circle(150)\n",
    "end_fill()"
   ]
  },
  {
   "cell_type": "code",
   "execution_count": null,
   "metadata": {},
   "outputs": [],
   "source": []
  }
 ],
 "metadata": {
  "kernelspec": {
   "display_name": "Python 3",
   "language": "python",
   "name": "python3"
  }
 },
 "nbformat": 4,
 "nbformat_minor": 2
}
