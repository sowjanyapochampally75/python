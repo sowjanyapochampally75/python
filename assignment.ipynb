{
 "cells": [
  {
   "cell_type": "code",
   "execution_count": 2,
   "metadata": {},
   "outputs": [
    {
     "name": "stdout",
     "output_type": "stream",
     "text": [
      "4 6 "
     ]
    }
   ],
   "source": [
    "#consider only even numbers fromlist\n",
    "a=[1,4,5,6,9]\n",
    "def evenNumber(a):\n",
    "    for x in range(len(a)):\n",
    "        if a[x]%2==0 :\n",
    "            print(a[x],end=\" \")\n",
    "    return \n",
    "evenNumber(a)"
   ]
  },
  {
   "cell_type": "code",
   "execution_count": 3,
   "metadata": {},
   "outputs": [
    {
     "name": "stdout",
     "output_type": "stream",
     "text": [
      "1 4 3 16 5 "
     ]
    }
   ],
   "source": [
    "#consider only even numbers from the list\n",
    "a=[1,4,5,6,9]\n",
    "#consider only even number and square of it\n",
    "a=[1,2,3,4,5]\n",
    "def evenSquare(a):\n",
    "   for x in range (len(a)):\n",
    "       if a[x]%2!=0 :\n",
    "           print(a[x],end=\" \")\n",
    "       elif a[x]%2==0 :\n",
    "           print(a[x]*a[x],end=\" \")\n",
    "   return\n",
    "evenSquare(a)"
   ]
  },
  {
   "cell_type": "code",
   "execution_count": 7,
   "metadata": {},
   "outputs": [
    {
     "ename": "SyntaxError",
     "evalue": "keyword can't be an expression (<ipython-input-7-a0d548488fa1>, line 8)",
     "output_type": "error",
     "traceback": [
      "\u001b[1;36m  File \u001b[1;32m\"<ipython-input-7-a0d548488fa1>\"\u001b[1;36m, line \u001b[1;32m8\u001b[0m\n\u001b[1;33m    print(a[x]=a[x]+a[x-1],end=\" \")\u001b[0m\n\u001b[1;37m         ^\u001b[0m\n\u001b[1;31mSyntaxError\u001b[0m\u001b[1;31m:\u001b[0m keyword can't be an expression\n"
     ]
    }
   ],
   "source": [
    "#function to add previous number to current number\n",
    "a=[15,19,12,16,4]\n",
    "def addPrevious(a):\n",
    "    for x in range (len(a)):\n",
    "        if x==0 :\n",
    "            print(a[x],end=\" \")\n",
    "        elif  x>0 or x<=len(a)-1 :\n",
    "            print(a[x]=a[x]+a[x-1],end=\" \")\n",
    "    return\n",
    "addPrevious(a)\n"
   ]
  },
  {
   "cell_type": "code",
   "execution_count": 1,
   "metadata": {},
   "outputs": [
    {
     "name": "stdout",
     "output_type": "stream",
     "text": [
      "15 34 46 62 66 "
     ]
    }
   ],
   "source": [
    "#function to add previous number to current number\n",
    "a=[15,19,12,16,4]\n",
    "def addPrevious(a):\n",
    "   for x in range (len(a)):\n",
    "       if x==0 :\n",
    "           print(a[x],end=\" \")\n",
    "       elif x>0 or x<=len(a)-1 :\n",
    "           j=a[x]=a[x]+a[x-1]\n",
    "           print(j,end=\" \")\n",
    "   return\n",
    "addPrevious(a)"
   ]
  },
  {
   "cell_type": "code",
   "execution_count": null,
   "metadata": {},
   "outputs": [],
   "source": []
  }
 ],
 "metadata": {
  "kernelspec": {
   "display_name": "Python 3",
   "language": "python",
   "name": "python3"
  },
  "language_info": {
   "codemirror_mode": {
    "name": "ipython",
    "version": 3
   },
   "file_extension": ".py",
   "mimetype": "text/x-python",
   "name": "python",
   "nbconvert_exporter": "python",
   "pygments_lexer": "ipython3",
   "version": "3.7.3"
  }
 },
 "nbformat": 4,
 "nbformat_minor": 2
}
