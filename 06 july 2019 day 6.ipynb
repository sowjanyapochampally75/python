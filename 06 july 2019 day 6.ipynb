{
 "cells": [
  {
   "cell_type": "code",
   "execution_count": 3,
   "metadata": {},
   "outputs": [
    {
     "name": "stdout",
     "output_type": "stream",
     "text": [
      "enter number 1 12\n",
      "enter number 2 7\n",
      "enter number 3 5\n",
      "12 is the large number\n"
     ]
    }
   ],
   "source": [
    "#find the large number from the given 3 number\n",
    "a1 = int(input(\"enter number 1 \"))\n",
    "a2 = int(input(\"enter number 2 \"))\n",
    "a3 = int(input(\"enter number 3 \"))\n",
    "  \n",
    "if a1>a2 and a1>a3:\n",
    "        print(a1,\"is the large number\")\n",
    "elif a2>a1 and a2>a3:\n",
    "    print(a2,\"is the large number \")\n",
    "else:\n",
    "        print(a3,\"is the larger number\")"
   ]
  },
  {
   "cell_type": "code",
   "execution_count": 4,
   "metadata": {},
   "outputs": [
    {
     "name": "stdout",
     "output_type": "stream",
     "text": [
      "enter the year2012\n",
      "leap year\n"
     ]
    }
   ],
   "source": [
    "#check if a year is a leap year or not\n",
    "year = int(input(\"enter the year\"))\n",
    "if year%400 == 0 or (year %100 !=0 and year %4 == 0):\n",
    "    print(\"leap year\")\n",
    "else:\n",
    "    print(\"not a leap year\")"
   ]
  },
  {
   "cell_type": "code",
   "execution_count": 5,
   "metadata": {},
   "outputs": [
    {
     "name": "stdout",
     "output_type": "stream",
     "text": [
      "gitam\n",
      "gitam\n",
      "gitam\n",
      "gitam\n",
      "gitam\n"
     ]
    }
   ],
   "source": [
    "#need print gitam 5 times\n",
    "print(\"gitam\")\n",
    "print(\"gitam\")\n",
    "print(\"gitam\")\n",
    "print(\"gitam\")\n",
    "print(\"gitam\")"
   ]
  },
  {
   "cell_type": "code",
   "execution_count": 6,
   "metadata": {},
   "outputs": [
    {
     "name": "stdout",
     "output_type": "stream",
     "text": [
      "gitam\n",
      "gitam\n",
      "gitam\n",
      "gitam\n",
      "gitam\n"
     ]
    }
   ],
   "source": [
    "x = 0\n",
    "while x < 5:\n",
    "    print(\"gitam\")\n",
    "    x = x + 1"
   ]
  },
  {
   "cell_type": "code",
   "execution_count": 7,
   "metadata": {},
   "outputs": [
    {
     "name": "stdout",
     "output_type": "stream",
     "text": [
      "enter a number7\n",
      "1 2 3 4 5 6 7 "
     ]
    }
   ],
   "source": [
    "#print Nnatural numbers using while loop\n",
    "#input -10\n",
    "#out put - 1 2 3.....10\n",
    "n = int(input(\"enter a number\"))\n",
    "i = 1\n",
    "while i<= n:\n",
    "    print(i,end =\" \")\n",
    "    i = i +1"
   ]
  },
  {
   "cell_type": "code",
   "execution_count": 4,
   "metadata": {},
   "outputs": [
    {
     "name": "stdout",
     "output_type": "stream",
     "text": [
      "enmter a number2\n",
      "0 2 2 6 6 12 12 20 20 30 "
     ]
    }
   ],
   "source": [
    "#read a number -- n\n",
    "#add only  even number between 1 to n\n",
    "#input --10\n",
    "#out put -- 30(2 + 4 + 6 + 8 + 10)\n",
    "n = int(input(\"enter a number\"))\n",
    "i=1\n",
    "sum = 0\n",
    "while i <=10:\n",
    "    if i%2 == 0:\n",
    "        sum = sum + i\n",
    "    i = i + 1\n",
    "    print(sum,end=\" \")"
   ]
  },
  {
   "cell_type": "code",
   "execution_count": 7,
   "metadata": {},
   "outputs": [
    {
     "name": "stdout",
     "output_type": "stream",
     "text": [
      "enter a number123\n",
      "3 2 1 "
     ]
    }
   ],
   "source": [
    "#number as a number--123\n",
    "#print the digits of a given number :3 2 1\n",
    "n = int(input(\"enter a number\"))\n",
    "while n != 0:\n",
    "    r = n % 10\n",
    "    print(r,end=\" \")\n",
    "    n = n //10"
   ]
  },
  {
   "cell_type": "code",
   "execution_count": null,
   "metadata": {},
   "outputs": [],
   "source": [
    "#read a number --19528\n",
    "#print the large digit print the number\n",
    "def printLarge(n):\n",
    "    large = 0\n",
    "    while n != 0:\n",
    "        r = n %10\n",
    "        if large < r:\n",
    "            large = r\n",
    "            n = n // 10 \n",
    "    return large\n",
    "printLarge(19528)\n"
   ]
  },
  {
   "cell_type": "code",
   "execution_count": null,
   "metadata": {},
   "outputs": [],
   "source": [
    "#read a number--1234\n",
    "#output--6(2+4)\n",
    "def addevendigits(n):\n",
    "    sum = 0\n",
    "    while n!= 0:\n",
    "        r = n % 10\n",
    "if r % 2 == 0\n",
    "        sum = sum + r\n",
    "          n = n // 10\n",
    "    return sum\n",
    "addevendigits(1234)"
   ]
  },
  {
   "cell_type": "code",
   "execution_count": 1,
   "metadata": {},
   "outputs": [
    {
     "ename": "SyntaxError",
     "evalue": "invalid syntax (<ipython-input-1-f674325a78c0>, line 6)",
     "output_type": "error",
     "traceback": [
      "\u001b[1;36m  File \u001b[1;32m\"<ipython-input-1-f674325a78c0>\"\u001b[1;36m, line \u001b[1;32m6\u001b[0m\n\u001b[1;33m    while n! = 0\u001b[0m\n\u001b[1;37m           ^\u001b[0m\n\u001b[1;31mSyntaxError\u001b[0m\u001b[1;31m:\u001b[0m invalid syntax\n"
     ]
    }
   ],
   "source": [
    "#read a number  input\n",
    "#output reverse of the given number\n",
    "#123 -- 321\n",
    "def reversenumber(n):\n",
    "    rev = 0\n",
    "    while n! = 0\n",
    "     r = n % 10\n",
    "        rev = rev * 10 + r\n",
    "        n = n // 10\n",
    "    return rev\n",
    "reversenumber(123)"
   ]
  },
  {
   "cell_type": "code",
   "execution_count": 7,
   "metadata": {},
   "outputs": [
    {
     "name": "stdout",
     "output_type": "stream",
     "text": [
      "no\n",
      "no\n"
     ]
    }
   ],
   "source": [
    "#123 --321--n0\n",
    "#121 --121--yes\n",
    "def ispalindrome(n):\n",
    "    rev = 0\n",
    "    buffer = n\n",
    "    while n != 0:\n",
    "        r = n % 10\n",
    "        rev = rev * 10 + r\n",
    "        n = n // 10\n",
    "        if buffer == rev:\n",
    "            return \"yes\"\n",
    "        else:\n",
    "            return\"no\"\n",
    "print(ispalindrome(123))\n",
    "print(ispalindrome(121))\n",
    "        "
   ]
  },
  {
   "cell_type": "code",
   "execution_count": 5,
   "metadata": {},
   "outputs": [
    {
     "name": "stdout",
     "output_type": "stream",
     "text": [
      "1 "
     ]
    }
   ],
   "source": [
    "#function to print N natural numbers\n",
    "def printNnaturalnumbers(n):\n",
    "    for x in range(1,n+1):\n",
    "        print(x,end=\" \")\n",
    "        return\n",
    "printNnaturalnumbers(10)"
   ]
  },
  {
   "cell_type": "code",
   "execution_count": 3,
   "metadata": {},
   "outputs": [
    {
     "ename": "SyntaxError",
     "evalue": "invalid syntax (<ipython-input-3-fb97e2b3977e>, line 3)",
     "output_type": "error",
     "traceback": [
      "\u001b[1;36m  File \u001b[1;32m\"<ipython-input-3-fb97e2b3977e>\"\u001b[1;36m, line \u001b[1;32m3\u001b[0m\n\u001b[1;33m    def printseries(1b,ub):\u001b[0m\n\u001b[1;37m                    ^\u001b[0m\n\u001b[1;31mSyntaxError\u001b[0m\u001b[1;31m:\u001b[0m invalid syntax\n"
     ]
    }
   ],
   "source": [
    "#input : 11,25\n",
    "#output:11 12 13....\n",
    "def printseries(1b,ub):\n",
    "    for x in range\n",
    "    "
   ]
  },
  {
   "cell_type": "code",
   "execution_count": 6,
   "metadata": {},
   "outputs": [],
   "source": [
    "#function to print alternate numbers\n",
    "#[500,520]--500 502 504 506 508....520\n",
    "#[100,150]--100 102 104 106 108.....150\n",
    "def alternatenumbers(lb,ub):\n",
    "    for x in range(lb,ub+1,4):\n",
    "        print(x,end=\" \")\n",
    "        return\n",
    "    alternatenumbers(100,150)"
   ]
  },
  {
   "cell_type": "code",
   "execution_count": 4,
   "metadata": {},
   "outputs": [
    {
     "ename": "SyntaxError",
     "evalue": "invalid syntax (<ipython-input-4-6c0e72225f93>, line 4)",
     "output_type": "error",
     "traceback": [
      "\u001b[1;36m  File \u001b[1;32m\"<ipython-input-4-6c0e72225f93>\"\u001b[1;36m, line \u001b[1;32m4\u001b[0m\n\u001b[1;33m    def reverserange\u001b[0m\n\u001b[1;37m                    ^\u001b[0m\n\u001b[1;31mSyntaxError\u001b[0m\u001b[1;31m:\u001b[0m invalid syntax\n"
     ]
    }
   ],
   "source": [
    "#function to print the series in reverse\n",
    "#input --1,10\n",
    "#output:10,9,8,7...\n",
    "def reverserange"
   ]
  },
  {
   "cell_type": "code",
   "execution_count": null,
   "metadata": {},
   "outputs": [],
   "source": []
  }
 ],
 "metadata": {
  "kernelspec": {
   "display_name": "Python 3",
   "language": "python",
   "name": "python3"
  },
  "language_info": {
   "codemirror_mode": {
    "name": "ipython",
    "version": 3
   },
   "file_extension": ".py",
   "mimetype": "text/x-python",
   "name": "python",
   "nbconvert_exporter": "python",
   "pygments_lexer": "ipython3",
   "version": "3.7.3"
  }
 },
 "nbformat": 4,
 "nbformat_minor": 2
}
