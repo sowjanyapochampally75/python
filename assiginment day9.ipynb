{
 "cells": [
  {
   "cell_type": "code",
   "execution_count": 1,
   "metadata": {},
   "outputs": [
    {
     "name": "stdout",
     "output_type": "stream",
     "text": [
      "1 3 9 27 81 243 729 2187 6561 19683 59049 177147 "
     ]
    }
   ],
   "source": [
    "#function\n",
    "# series : 1, 3, 9, 27, 81, ...\n",
    "def printSeries(n):\n",
    "   y = 1\n",
    "   print(y, end =\" \")\n",
    "   for x in range(0,n+1):\n",
    "       y = y * 3\n",
    "       print(y,end=\" \")\n",
    "   return\n",
    "printSeries(10)"
   ]
  },
  {
   "cell_type": "code",
   "execution_count": 2,
   "metadata": {},
   "outputs": [
    {
     "name": "stdout",
     "output_type": "stream",
     "text": [
      "1 2 4 8 16 32 64 128 256 512 1024 2048 "
     ]
    }
   ],
   "source": [
    "# funtion\n",
    "# series : 1,2,4,8  ...\n",
    "def printSeries(n):\n",
    "   y = 1\n",
    "   print(y, end =\" \")\n",
    "   for x in range(0,n+1):\n",
    "       y = y * 2\n",
    "       print(y,end=\" \")\n",
    "   return\n",
    "printSeries(10)"
   ]
  },
  {
   "cell_type": "code",
   "execution_count": 3,
   "metadata": {},
   "outputs": [
    {
     "ename": "SyntaxError",
     "evalue": "invalid syntax (<ipython-input-3-7826f204b6e5>, line 7)",
     "output_type": "error",
     "traceback": [
      "\u001b[1;36m  File \u001b[1;32m\"<ipython-input-3-7826f204b6e5>\"\u001b[1;36m, line \u001b[1;32m7\u001b[0m\n\u001b[1;33m    y = y*\u001b[0m\n\u001b[1;37m           ^\u001b[0m\n\u001b[1;31mSyntaxError\u001b[0m\u001b[1;31m:\u001b[0m invalid syntax\n"
     ]
    }
   ],
   "source": [
    "#funtion\n",
    "# series : 1, 3,8,15,27,50,92,169,311 ...\n",
    "def printSeries(n):\n",
    "   y = 1\n",
    "   print(y, end =\" \")\n",
    "   for x in range(0,n+1):\n",
    "       y = y* \n",
    "       print(y,end=\" \")\n",
    "   return\n",
    "printSeries(10)"
   ]
  },
  {
   "cell_type": "code",
   "execution_count": 1,
   "metadata": {},
   "outputs": [
    {
     "name": "stdout",
     "output_type": "stream",
     "text": [
      "1\n",
      "3\n",
      "8\n",
      "15\n",
      "27\n",
      "50\n",
      "92\n",
      "169\n",
      "311\n",
      "572\n",
      "1052\n",
      "1935\n"
     ]
    }
   ],
   "source": [
    "#function to generate series\n",
    "def generateSeries3(a,b,c):\n",
    "   a=1\n",
    "   b=3\n",
    "   c=4\n",
    "   print(a)\n",
    "   print(b)\n",
    "   for sum in range(10):\n",
    "       sum=a+b+c\n",
    "       a=b\n",
    "       b=c\n",
    "       c=sum\n",
    "       print(sum)\n",
    "   return\n",
    "generateSeries3(1,3,4)"
   ]
  },
  {
   "cell_type": "code",
   "execution_count": 2,
   "metadata": {},
   "outputs": [
    {
     "name": "stdout",
     "output_type": "stream",
     "text": [
      "1\n",
      "2\n",
      "4\n",
      "8\n",
      "16\n",
      "32\n",
      "64\n",
      "128\n",
      "256\n",
      "512\n"
     ]
    }
   ],
   "source": [
    "#assignment\n",
    "#function to generate series\n",
    "def generateSeries2(n):\n",
    "   i=0\n",
    "   for i in range(10):\n",
    "       x=n**i\n",
    "       print(x)\n",
    "       i=i+1\n",
    "   return\n",
    "generateSeries2(2)"
   ]
  },
  {
   "cell_type": "code",
   "execution_count": 3,
   "metadata": {},
   "outputs": [
    {
     "name": "stdout",
     "output_type": "stream",
     "text": [
      "3 2 1 1 0 "
     ]
    }
   ],
   "source": [
    "def reverseFibonacci(n): \n",
    "   a = [0] * n  \n",
    "   a[0] = 0 \n",
    "   a[1] = 1\n",
    "   for i in range(2, n):   \n",
    "       a[i] = a[i - 2] + a[i - 1]  \n",
    "   for i in range(n - 1, -1 , -1):   \n",
    "       print(a[i],end=\" \")  \n",
    "n = 5 0\n",
    "reverseFibonacci(n)"
   ]
  },
  {
   "cell_type": "code",
   "execution_count": null,
   "metadata": {},
   "outputs": [],
   "source": []
  },
  {
   "cell_type": "code",
   "execution_count": null,
   "metadata": {},
   "outputs": [],
   "source": []
  }
 ],
 "metadata": {
  "kernelspec": {
   "display_name": "Python 3",
   "language": "python",
   "name": "python3"
  },
  "language_info": {
   "codemirror_mode": {
    "name": "ipython",
    "version": 3
   },
   "file_extension": ".py",
   "mimetype": "text/x-python",
   "name": "python",
   "nbconvert_exporter": "python",
   "pygments_lexer": "ipython3",
   "version": "3.7.3"
  }
 },
 "nbformat": 4,
 "nbformat_minor": 2
}
